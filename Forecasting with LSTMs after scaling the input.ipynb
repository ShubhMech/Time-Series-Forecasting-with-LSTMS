{
 "cells": [
  {
   "cell_type": "code",
   "execution_count": 1,
   "id": "4cab6f6b-167b-4869-814a-0be4de35867d",
   "metadata": {},
   "outputs": [],
   "source": [
    "path=r\"D:\\Asus\\Documents\\timeseries_rev (1).csv\""
   ]
  },
  {
   "cell_type": "code",
   "execution_count": 2,
   "id": "38da609c-a4e4-4b09-ae52-b75a1d48766c",
   "metadata": {},
   "outputs": [],
   "source": [
    "import pandas as pd\n",
    "from tensorflow.keras.layers import LSTM, Dense, Flatten\n",
    "from tensorflow.keras.models import Sequential\n",
    "\n"
   ]
  },
  {
   "cell_type": "code",
   "execution_count": 3,
   "id": "034eb1cd-cd25-4f4b-ac2d-f5d6c0e83d92",
   "metadata": {},
   "outputs": [],
   "source": [
    "import pandas as pd"
   ]
  },
  {
   "cell_type": "code",
   "execution_count": 4,
   "id": "560e1a24-5dbd-4484-964a-463f5e1ac291",
   "metadata": {},
   "outputs": [],
   "source": [
    "file= pd.read_csv(path)"
   ]
  },
  {
   "cell_type": "code",
   "execution_count": 5,
   "id": "98b63f1e-e937-4c6e-924b-e5152e82a05a",
   "metadata": {},
   "outputs": [
    {
     "data": {
      "text/html": [
       "<div>\n",
       "<style scoped>\n",
       "    .dataframe tbody tr th:only-of-type {\n",
       "        vertical-align: middle;\n",
       "    }\n",
       "\n",
       "    .dataframe tbody tr th {\n",
       "        vertical-align: top;\n",
       "    }\n",
       "\n",
       "    .dataframe thead th {\n",
       "        text-align: right;\n",
       "    }\n",
       "</style>\n",
       "<table border=\"1\" class=\"dataframe\">\n",
       "  <thead>\n",
       "    <tr style=\"text-align: right;\">\n",
       "      <th></th>\n",
       "      <th>Unnamed: 0</th>\n",
       "      <th>week</th>\n",
       "      <th>year</th>\n",
       "      <th>date</th>\n",
       "      <th>total_revenue</th>\n",
       "    </tr>\n",
       "  </thead>\n",
       "  <tbody>\n",
       "    <tr>\n",
       "      <th>0</th>\n",
       "      <td>96</td>\n",
       "      <td>49</td>\n",
       "      <td>2009</td>\n",
       "      <td>2009-12-01</td>\n",
       "      <td>232177.510</td>\n",
       "    </tr>\n",
       "    <tr>\n",
       "      <th>1</th>\n",
       "      <td>99</td>\n",
       "      <td>50</td>\n",
       "      <td>2009</td>\n",
       "      <td>2009-12-07</td>\n",
       "      <td>207908.730</td>\n",
       "    </tr>\n",
       "    <tr>\n",
       "      <th>2</th>\n",
       "      <td>101</td>\n",
       "      <td>51</td>\n",
       "      <td>2009</td>\n",
       "      <td>2009-12-14</td>\n",
       "      <td>207685.870</td>\n",
       "    </tr>\n",
       "    <tr>\n",
       "      <th>3</th>\n",
       "      <td>103</td>\n",
       "      <td>52</td>\n",
       "      <td>2009</td>\n",
       "      <td>2009-12-21</td>\n",
       "      <td>35731.900</td>\n",
       "    </tr>\n",
       "    <tr>\n",
       "      <th>4</th>\n",
       "      <td>0</td>\n",
       "      <td>1</td>\n",
       "      <td>2010</td>\n",
       "      <td>2010-01-04</td>\n",
       "      <td>167636.950</td>\n",
       "    </tr>\n",
       "    <tr>\n",
       "      <th>5</th>\n",
       "      <td>2</td>\n",
       "      <td>2</td>\n",
       "      <td>2010</td>\n",
       "      <td>2010-01-11</td>\n",
       "      <td>125493.610</td>\n",
       "    </tr>\n",
       "    <tr>\n",
       "      <th>6</th>\n",
       "      <td>4</td>\n",
       "      <td>3</td>\n",
       "      <td>2010</td>\n",
       "      <td>2010-01-18</td>\n",
       "      <td>119473.351</td>\n",
       "    </tr>\n",
       "    <tr>\n",
       "      <th>7</th>\n",
       "      <td>6</td>\n",
       "      <td>4</td>\n",
       "      <td>2010</td>\n",
       "      <td>2010-01-25</td>\n",
       "      <td>143198.761</td>\n",
       "    </tr>\n",
       "    <tr>\n",
       "      <th>8</th>\n",
       "      <td>8</td>\n",
       "      <td>5</td>\n",
       "      <td>2010</td>\n",
       "      <td>2010-02-01</td>\n",
       "      <td>112299.692</td>\n",
       "    </tr>\n",
       "    <tr>\n",
       "      <th>9</th>\n",
       "      <td>10</td>\n",
       "      <td>6</td>\n",
       "      <td>2010</td>\n",
       "      <td>2010-02-08</td>\n",
       "      <td>80059.660</td>\n",
       "    </tr>\n",
       "  </tbody>\n",
       "</table>\n",
       "</div>"
      ],
      "text/plain": [
       "   Unnamed: 0  week  year        date  total_revenue\n",
       "0          96    49  2009  2009-12-01     232177.510\n",
       "1          99    50  2009  2009-12-07     207908.730\n",
       "2         101    51  2009  2009-12-14     207685.870\n",
       "3         103    52  2009  2009-12-21      35731.900\n",
       "4           0     1  2010  2010-01-04     167636.950\n",
       "5           2     2  2010  2010-01-11     125493.610\n",
       "6           4     3  2010  2010-01-18     119473.351\n",
       "7           6     4  2010  2010-01-25     143198.761\n",
       "8           8     5  2010  2010-02-01     112299.692\n",
       "9          10     6  2010  2010-02-08      80059.660"
      ]
     },
     "execution_count": 5,
     "metadata": {},
     "output_type": "execute_result"
    }
   ],
   "source": [
    "file.head(10)"
   ]
  },
  {
   "cell_type": "code",
   "execution_count": 6,
   "id": "0a67a0b6-42e0-4582-af93-ea2e068fd034",
   "metadata": {},
   "outputs": [
    {
     "data": {
      "text/html": [
       "<div>\n",
       "<style scoped>\n",
       "    .dataframe tbody tr th:only-of-type {\n",
       "        vertical-align: middle;\n",
       "    }\n",
       "\n",
       "    .dataframe tbody tr th {\n",
       "        vertical-align: top;\n",
       "    }\n",
       "\n",
       "    .dataframe thead th {\n",
       "        text-align: right;\n",
       "    }\n",
       "</style>\n",
       "<table border=\"1\" class=\"dataframe\">\n",
       "  <thead>\n",
       "    <tr style=\"text-align: right;\">\n",
       "      <th></th>\n",
       "      <th>Unnamed: 0</th>\n",
       "      <th>week</th>\n",
       "      <th>year</th>\n",
       "      <th>total_revenue</th>\n",
       "    </tr>\n",
       "  </thead>\n",
       "  <tbody>\n",
       "    <tr>\n",
       "      <th>count</th>\n",
       "      <td>104.000000</td>\n",
       "      <td>104.000000</td>\n",
       "      <td>104.000000</td>\n",
       "      <td>104.000000</td>\n",
       "    </tr>\n",
       "    <tr>\n",
       "      <th>mean</th>\n",
       "      <td>51.500000</td>\n",
       "      <td>26.471154</td>\n",
       "      <td>2010.432692</td>\n",
       "      <td>167065.425654</td>\n",
       "    </tr>\n",
       "    <tr>\n",
       "      <th>std</th>\n",
       "      <td>30.166206</td>\n",
       "      <td>15.034560</td>\n",
       "      <td>0.570546</td>\n",
       "      <td>62661.386497</td>\n",
       "    </tr>\n",
       "    <tr>\n",
       "      <th>min</th>\n",
       "      <td>0.000000</td>\n",
       "      <td>1.000000</td>\n",
       "      <td>2009.000000</td>\n",
       "      <td>35731.900000</td>\n",
       "    </tr>\n",
       "    <tr>\n",
       "      <th>25%</th>\n",
       "      <td>25.750000</td>\n",
       "      <td>13.750000</td>\n",
       "      <td>2010.000000</td>\n",
       "      <td>124140.957500</td>\n",
       "    </tr>\n",
       "    <tr>\n",
       "      <th>50%</th>\n",
       "      <td>51.500000</td>\n",
       "      <td>26.500000</td>\n",
       "      <td>2010.000000</td>\n",
       "      <td>150624.091000</td>\n",
       "    </tr>\n",
       "    <tr>\n",
       "      <th>75%</th>\n",
       "      <td>77.250000</td>\n",
       "      <td>39.250000</td>\n",
       "      <td>2011.000000</td>\n",
       "      <td>201107.020000</td>\n",
       "    </tr>\n",
       "    <tr>\n",
       "      <th>max</th>\n",
       "      <td>103.000000</td>\n",
       "      <td>52.000000</td>\n",
       "      <td>2011.000000</td>\n",
       "      <td>408044.970000</td>\n",
       "    </tr>\n",
       "  </tbody>\n",
       "</table>\n",
       "</div>"
      ],
      "text/plain": [
       "       Unnamed: 0        week         year  total_revenue\n",
       "count  104.000000  104.000000   104.000000     104.000000\n",
       "mean    51.500000   26.471154  2010.432692  167065.425654\n",
       "std     30.166206   15.034560     0.570546   62661.386497\n",
       "min      0.000000    1.000000  2009.000000   35731.900000\n",
       "25%     25.750000   13.750000  2010.000000  124140.957500\n",
       "50%     51.500000   26.500000  2010.000000  150624.091000\n",
       "75%     77.250000   39.250000  2011.000000  201107.020000\n",
       "max    103.000000   52.000000  2011.000000  408044.970000"
      ]
     },
     "execution_count": 6,
     "metadata": {},
     "output_type": "execute_result"
    }
   ],
   "source": [
    "file.describe()"
   ]
  },
  {
   "cell_type": "code",
   "execution_count": 7,
   "id": "f0746e73-ee84-471b-bd53-fc1178d1dad7",
   "metadata": {},
   "outputs": [
    {
     "data": {
      "text/plain": [
       "(104, 5)"
      ]
     },
     "execution_count": 7,
     "metadata": {},
     "output_type": "execute_result"
    }
   ],
   "source": [
    "file.shape"
   ]
  },
  {
   "cell_type": "code",
   "execution_count": 8,
   "id": "5fc17453-a360-4d12-9d88-64f7d120346e",
   "metadata": {},
   "outputs": [
    {
     "name": "stdout",
     "output_type": "stream",
     "text": [
      "<class 'pandas.core.frame.DataFrame'>\n",
      "RangeIndex: 104 entries, 0 to 103\n",
      "Data columns (total 5 columns):\n",
      " #   Column         Non-Null Count  Dtype  \n",
      "---  ------         --------------  -----  \n",
      " 0   Unnamed: 0     104 non-null    int64  \n",
      " 1   week           104 non-null    int64  \n",
      " 2   year           104 non-null    int64  \n",
      " 3   date           104 non-null    object \n",
      " 4   total_revenue  104 non-null    float64\n",
      "dtypes: float64(1), int64(3), object(1)\n",
      "memory usage: 4.2+ KB\n"
     ]
    }
   ],
   "source": [
    "file.info()"
   ]
  },
  {
   "cell_type": "code",
   "execution_count": 9,
   "id": "a0ce7f21-f3d1-4bb6-9045-5f4f57cf92b8",
   "metadata": {},
   "outputs": [
    {
     "data": {
      "text/plain": [
       "[<matplotlib.lines.Line2D at 0x1ca5fb53fa0>]"
      ]
     },
     "execution_count": 9,
     "metadata": {},
     "output_type": "execute_result"
    },
    {
     "data": {
      "image/png": "[encoded data removed]",
      "text/plain": [
       "<Figure size 432x288 with 1 Axes>"
      ]
     },
     "metadata": {
      "needs_background": "light"
     },
     "output_type": "display_data"
    }
   ],
   "source": [
    "import matplotlib.pyplot as plt\n",
    "plt.plot(file['total_revenue'].values)"
   ]
  },
  {
   "cell_type": "code",
   "execution_count": 142,
   "id": "01287af9-fc3d-44b9-977d-99cb0fcdca5c",
   "metadata": {},
   "outputs": [],
   "source": [
    "input= []\n",
    "output=[]"
   ]
  },
  {
   "cell_type": "code",
   "execution_count": 143,
   "id": "8d63e845-e4d0-4798-ac3d-eafa15b31080",
   "metadata": {},
   "outputs": [],
   "source": [
    "file1= file['total_revenue'].values"
   ]
  },
  {
   "cell_type": "code",
   "execution_count": 144,
   "id": "04c67b8b-a92f-4eb3-8837-3e6d89693f5c",
   "metadata": {},
   "outputs": [
    {
     "data": {
      "text/plain": [
       "numpy.ndarray"
      ]
     },
     "execution_count": 144,
     "metadata": {},
     "output_type": "execute_result"
    }
   ],
   "source": [
    "type(file1)"
   ]
  },
  {
   "cell_type": "code",
   "execution_count": 145,
   "id": "c677bb3d-f775-457f-bad4-91acca15ddbb",
   "metadata": {},
   "outputs": [],
   "source": [
    "file2=file1.tolist()"
   ]
  },
  {
   "cell_type": "code",
   "execution_count": 146,
   "id": "4ed64b59-246b-46bd-8213-5cc405377441",
   "metadata": {},
   "outputs": [
    {
     "data": {
      "text/plain": [
       "104"
      ]
     },
     "execution_count": 146,
     "metadata": {},
     "output_type": "execute_result"
    }
   ],
   "source": [
    "len(file2)"
   ]
  },
  {
   "cell_type": "code",
   "execution_count": 147,
   "id": "ab273bad-8a1e-49e5-8208-948e502029e0",
   "metadata": {},
   "outputs": [
    {
     "data": {
      "text/plain": [
       "numpy.float64"
      ]
     },
     "execution_count": 147,
     "metadata": {},
     "output_type": "execute_result"
    }
   ],
   "source": [
    "type(np.mean(file2))"
   ]
  },
  {
   "cell_type": "code",
   "execution_count": 148,
   "id": "e29618e9-b0ca-438b-97a4-4a21e82f9ee0",
   "metadata": {},
   "outputs": [
    {
     "data": {
      "text/plain": [
       "62359.40215426441"
      ]
     },
     "execution_count": 148,
     "metadata": {},
     "output_type": "execute_result"
    }
   ],
   "source": [
    "np.std(file2)"
   ]
  },
  {
   "cell_type": "code",
   "execution_count": 149,
   "id": "3251b2ff-c75b-4b9f-8524-391e6677303d",
   "metadata": {},
   "outputs": [],
   "source": [
    "file2= (file2-np.min(file2))/(np.max(file2)-np.min(file2))"
   ]
  },
  {
   "cell_type": "code",
   "execution_count": 150,
   "id": "269e31b4-a599-41d0-abe8-9b17d160c0ea",
   "metadata": {},
   "outputs": [
    {
     "data": {
      "text/plain": [
       "array([0.52763555, 0.46245175, 0.46185317, 0.        , 0.35428531,\n",
       "       0.24109202, 0.22492214, 0.28864649, 0.20565432, 0.11906045,\n",
       "       0.33513328, 0.31146181, 0.31178615, 0.22307355, 0.34575168,\n",
       "       0.36617511, 0.22231484, 0.23792573, 0.28418954, 0.27716115,\n",
       "       0.36305159, 0.3045043 , 0.32215264, 0.27651371, 0.28551608,\n",
       "       0.14672104, 0.44185344, 0.24510418, 0.18316021, 0.36276371,\n",
       "       0.27139316, 0.29212963, 0.26290804, 0.30571873, 0.22060593,\n",
       "       0.27963072, 0.31977123, 0.2700621 , 0.23605846, 0.22454769,\n",
       "       0.32243569, 0.5045623 , 0.71622723, 0.55672378, 0.70607819,\n",
       "       0.4972986 , 0.43508961, 0.60934192, 0.66335517, 0.60668878,\n",
       "       0.56608566, 0.60687496, 0.47510347, 0.34214276, 0.02773905,\n",
       "       0.21193159, 0.3185839 , 0.37527646, 0.18567465, 0.18861522,\n",
       "       0.13992536, 0.24164677, 0.2542185 , 0.2193179 , 0.20537025,\n",
       "       0.27379624, 0.25201592, 0.28987884, 0.2255248 , 0.26643953,\n",
       "       0.21551083, 0.10110351, 0.25613449, 0.38366212, 0.42997924,\n",
       "       0.29825628, 0.17809869, 0.42429942, 0.36520485, 0.20646272,\n",
       "       0.2162667 , 0.25647937, 0.22117631, 0.3533385 , 0.34520986,\n",
       "       0.32287639, 0.28957544, 0.35427846, 0.30045698, 0.20975377,\n",
       "       0.35045925, 0.46462774, 0.73421973, 0.42416596, 0.69963254,\n",
       "       0.45117151, 0.58833194, 0.53912945, 0.60068297, 0.61234872,\n",
       "       0.64592167, 0.57076342, 0.57774265, 1.        ])"
      ]
     },
     "execution_count": 150,
     "metadata": {},
     "output_type": "execute_result"
    }
   ],
   "source": [
    "file2"
   ]
  },
  {
   "cell_type": "code",
   "execution_count": 151,
   "id": "b9fd631e-39cb-40dc-804b-18558103cd8d",
   "metadata": {},
   "outputs": [
    {
     "data": {
      "text/plain": [
       "[<matplotlib.lines.Line2D at 0x1ca6b0e3940>]"
      ]
     },
     "execution_count": 151,
     "metadata": {},
     "output_type": "execute_result"
    },
    {
     "data": {
      "image/png": "[encoded data removed]",
      "text/plain": [
       "<Figure size 432x288 with 1 Axes>"
      ]
     },
     "metadata": {
      "needs_background": "light"
     },
     "output_type": "display_data"
    }
   ],
   "source": [
    "plt.plot(file2)"
   ]
  },
  {
   "cell_type": "code",
   "execution_count": 152,
   "id": "86e2d5db-6544-42b2-ab41-9a5835244c4c",
   "metadata": {
    "scrolled": true,
    "tags": []
   },
   "outputs": [
    {
     "name": "stdout",
     "output_type": "stream",
     "text": [
      "10\n",
      "11\n",
      "12\n",
      "13\n",
      "14\n",
      "15\n",
      "16\n",
      "17\n",
      "18\n",
      "19\n",
      "20\n",
      "21\n",
      "22\n",
      "23\n",
      "24\n",
      "25\n",
      "26\n",
      "27\n",
      "28\n",
      "29\n",
      "30\n",
      "31\n",
      "32\n",
      "33\n",
      "34\n",
      "35\n",
      "36\n",
      "37\n",
      "38\n",
      "39\n",
      "40\n",
      "41\n",
      "42\n",
      "43\n",
      "44\n",
      "45\n",
      "46\n",
      "47\n",
      "48\n",
      "49\n",
      "50\n",
      "51\n",
      "52\n",
      "53\n",
      "54\n",
      "55\n",
      "56\n",
      "57\n",
      "58\n",
      "59\n",
      "60\n",
      "61\n",
      "62\n",
      "63\n",
      "64\n",
      "65\n",
      "66\n",
      "67\n",
      "68\n",
      "69\n",
      "70\n",
      "71\n",
      "72\n",
      "73\n",
      "74\n",
      "75\n",
      "76\n",
      "77\n",
      "78\n",
      "79\n",
      "80\n",
      "81\n",
      "82\n",
      "83\n",
      "84\n",
      "85\n",
      "86\n",
      "87\n",
      "88\n",
      "89\n",
      "90\n",
      "91\n",
      "92\n",
      "93\n",
      "94\n",
      "95\n",
      "96\n",
      "97\n",
      "98\n",
      "99\n",
      "100\n",
      "101\n",
      "102\n",
      "103\n"
     ]
    }
   ],
   "source": [
    "n_steps= 10\n",
    "\n",
    "for i in range(0,len(file2)):\n",
    "    next= i+n_steps\n",
    "    if next >= len(file2):\n",
    "        break\n",
    "    xx= (file2)[i:next]\n",
    "    input.append(xx)\n",
    "    print(next)\n",
    "    output.append(file2[next])"
   ]
  },
  {
   "cell_type": "code",
   "execution_count": 153,
   "id": "4d43536e-4805-42d3-8046-148fc69262f5",
   "metadata": {
    "scrolled": true,
    "tags": []
   },
   "outputs": [
    {
     "data": {
      "text/plain": [
       "array([0.42416596, 0.69963254, 0.45117151, 0.58833194, 0.53912945,\n",
       "       0.60068297, 0.61234872, 0.64592167, 0.57076342, 0.57774265])"
      ]
     },
     "execution_count": 153,
     "metadata": {},
     "output_type": "execute_result"
    }
   ],
   "source": [
    "xx"
   ]
  },
  {
   "cell_type": "code",
   "execution_count": 154,
   "id": "097b5399-0980-4bdd-9bf9-2c29676b4268",
   "metadata": {},
   "outputs": [
    {
     "data": {
      "text/plain": [
       "array([0.64592167, 0.57076342, 0.57774265])"
      ]
     },
     "execution_count": 154,
     "metadata": {},
     "output_type": "execute_result"
    }
   ],
   "source": [
    "file2[-4:-1]"
   ]
  },
  {
   "cell_type": "code",
   "execution_count": 155,
   "id": "52e1fed6-ca9a-4e8f-a840-52b6f7db0615",
   "metadata": {
    "scrolled": true,
    "tags": []
   },
   "outputs": [
    {
     "data": {
      "text/plain": [
       "[array([0.52763555, 0.46245175, 0.46185317, 0.        , 0.35428531,\n",
       "        0.24109202, 0.22492214, 0.28864649, 0.20565432, 0.11906045]),\n",
       " array([0.46245175, 0.46185317, 0.        , 0.35428531, 0.24109202,\n",
       "        0.22492214, 0.28864649, 0.20565432, 0.11906045, 0.33513328]),\n",
       " array([0.46185317, 0.        , 0.35428531, 0.24109202, 0.22492214,\n",
       "        0.28864649, 0.20565432, 0.11906045, 0.33513328, 0.31146181]),\n",
       " array([0.        , 0.35428531, 0.24109202, 0.22492214, 0.28864649,\n",
       "        0.20565432, 0.11906045, 0.33513328, 0.31146181, 0.31178615]),\n",
       " array([0.35428531, 0.24109202, 0.22492214, 0.28864649, 0.20565432,\n",
       "        0.11906045, 0.33513328, 0.31146181, 0.31178615, 0.22307355]),\n",
       " array([0.24109202, 0.22492214, 0.28864649, 0.20565432, 0.11906045,\n",
       "        0.33513328, 0.31146181, 0.31178615, 0.22307355, 0.34575168]),\n",
       " array([0.22492214, 0.28864649, 0.20565432, 0.11906045, 0.33513328,\n",
       "        0.31146181, 0.31178615, 0.22307355, 0.34575168, 0.36617511]),\n",
       " array([0.28864649, 0.20565432, 0.11906045, 0.33513328, 0.31146181,\n",
       "        0.31178615, 0.22307355, 0.34575168, 0.36617511, 0.22231484]),\n",
       " array([0.20565432, 0.11906045, 0.33513328, 0.31146181, 0.31178615,\n",
       "        0.22307355, 0.34575168, 0.36617511, 0.22231484, 0.23792573]),\n",
       " array([0.11906045, 0.33513328, 0.31146181, 0.31178615, 0.22307355,\n",
       "        0.34575168, 0.36617511, 0.22231484, 0.23792573, 0.28418954]),\n",
       " array([0.33513328, 0.31146181, 0.31178615, 0.22307355, 0.34575168,\n",
       "        0.36617511, 0.22231484, 0.23792573, 0.28418954, 0.27716115]),\n",
       " array([0.31146181, 0.31178615, 0.22307355, 0.34575168, 0.36617511,\n",
       "        0.22231484, 0.23792573, 0.28418954, 0.27716115, 0.36305159]),\n",
       " array([0.31178615, 0.22307355, 0.34575168, 0.36617511, 0.22231484,\n",
       "        0.23792573, 0.28418954, 0.27716115, 0.36305159, 0.3045043 ]),\n",
       " array([0.22307355, 0.34575168, 0.36617511, 0.22231484, 0.23792573,\n",
       "        0.28418954, 0.27716115, 0.36305159, 0.3045043 , 0.32215264]),\n",
       " array([0.34575168, 0.36617511, 0.22231484, 0.23792573, 0.28418954,\n",
       "        0.27716115, 0.36305159, 0.3045043 , 0.32215264, 0.27651371]),\n",
       " array([0.36617511, 0.22231484, 0.23792573, 0.28418954, 0.27716115,\n",
       "        0.36305159, 0.3045043 , 0.32215264, 0.27651371, 0.28551608]),\n",
       " array([0.22231484, 0.23792573, 0.28418954, 0.27716115, 0.36305159,\n",
       "        0.3045043 , 0.32215264, 0.27651371, 0.28551608, 0.14672104]),\n",
       " array([0.23792573, 0.28418954, 0.27716115, 0.36305159, 0.3045043 ,\n",
       "        0.32215264, 0.27651371, 0.28551608, 0.14672104, 0.44185344]),\n",
       " array([0.28418954, 0.27716115, 0.36305159, 0.3045043 , 0.32215264,\n",
       "        0.27651371, 0.28551608, 0.14672104, 0.44185344, 0.24510418]),\n",
       " array([0.27716115, 0.36305159, 0.3045043 , 0.32215264, 0.27651371,\n",
       "        0.28551608, 0.14672104, 0.44185344, 0.24510418, 0.18316021]),\n",
       " array([0.36305159, 0.3045043 , 0.32215264, 0.27651371, 0.28551608,\n",
       "        0.14672104, 0.44185344, 0.24510418, 0.18316021, 0.36276371]),\n",
       " array([0.3045043 , 0.32215264, 0.27651371, 0.28551608, 0.14672104,\n",
       "        0.44185344, 0.24510418, 0.18316021, 0.36276371, 0.27139316]),\n",
       " array([0.32215264, 0.27651371, 0.28551608, 0.14672104, 0.44185344,\n",
       "        0.24510418, 0.18316021, 0.36276371, 0.27139316, 0.29212963]),\n",
       " array([0.27651371, 0.28551608, 0.14672104, 0.44185344, 0.24510418,\n",
       "        0.18316021, 0.36276371, 0.27139316, 0.29212963, 0.26290804]),\n",
       " array([0.28551608, 0.14672104, 0.44185344, 0.24510418, 0.18316021,\n",
       "        0.36276371, 0.27139316, 0.29212963, 0.26290804, 0.30571873]),\n",
       " array([0.14672104, 0.44185344, 0.24510418, 0.18316021, 0.36276371,\n",
       "        0.27139316, 0.29212963, 0.26290804, 0.30571873, 0.22060593]),\n",
       " array([0.44185344, 0.24510418, 0.18316021, 0.36276371, 0.27139316,\n",
       "        0.29212963, 0.26290804, 0.30571873, 0.22060593, 0.27963072]),\n",
       " array([0.24510418, 0.18316021, 0.36276371, 0.27139316, 0.29212963,\n",
       "        0.26290804, 0.30571873, 0.22060593, 0.27963072, 0.31977123]),\n",
       " array([0.18316021, 0.36276371, 0.27139316, 0.29212963, 0.26290804,\n",
       "        0.30571873, 0.22060593, 0.27963072, 0.31977123, 0.2700621 ]),\n",
       " array([0.36276371, 0.27139316, 0.29212963, 0.26290804, 0.30571873,\n",
       "        0.22060593, 0.27963072, 0.31977123, 0.2700621 , 0.23605846]),\n",
       " array([0.27139316, 0.29212963, 0.26290804, 0.30571873, 0.22060593,\n",
       "        0.27963072, 0.31977123, 0.2700621 , 0.23605846, 0.22454769]),\n",
       " array([0.29212963, 0.26290804, 0.30571873, 0.22060593, 0.27963072,\n",
       "        0.31977123, 0.2700621 , 0.23605846, 0.22454769, 0.32243569]),\n",
       " array([0.26290804, 0.30571873, 0.22060593, 0.27963072, 0.31977123,\n",
       "        0.2700621 , 0.23605846, 0.22454769, 0.32243569, 0.5045623 ]),\n",
       " array([0.30571873, 0.22060593, 0.27963072, 0.31977123, 0.2700621 ,\n",
       "        0.23605846, 0.22454769, 0.32243569, 0.5045623 , 0.71622723]),\n",
       " array([0.22060593, 0.27963072, 0.31977123, 0.2700621 , 0.23605846,\n",
       "        0.22454769, 0.32243569, 0.5045623 , 0.71622723, 0.55672378]),\n",
       " array([0.27963072, 0.31977123, 0.2700621 , 0.23605846, 0.22454769,\n",
       "        0.32243569, 0.5045623 , 0.71622723, 0.55672378, 0.70607819]),\n",
       " array([0.31977123, 0.2700621 , 0.23605846, 0.22454769, 0.32243569,\n",
       "        0.5045623 , 0.71622723, 0.55672378, 0.70607819, 0.4972986 ]),\n",
       " array([0.2700621 , 0.23605846, 0.22454769, 0.32243569, 0.5045623 ,\n",
       "        0.71622723, 0.55672378, 0.70607819, 0.4972986 , 0.43508961]),\n",
       " array([0.23605846, 0.22454769, 0.32243569, 0.5045623 , 0.71622723,\n",
       "        0.55672378, 0.70607819, 0.4972986 , 0.43508961, 0.60934192]),\n",
       " array([0.22454769, 0.32243569, 0.5045623 , 0.71622723, 0.55672378,\n",
       "        0.70607819, 0.4972986 , 0.43508961, 0.60934192, 0.66335517]),\n",
       " array([0.32243569, 0.5045623 , 0.71622723, 0.55672378, 0.70607819,\n",
       "        0.4972986 , 0.43508961, 0.60934192, 0.66335517, 0.60668878]),\n",
       " array([0.5045623 , 0.71622723, 0.55672378, 0.70607819, 0.4972986 ,\n",
       "        0.43508961, 0.60934192, 0.66335517, 0.60668878, 0.56608566]),\n",
       " array([0.71622723, 0.55672378, 0.70607819, 0.4972986 , 0.43508961,\n",
       "        0.60934192, 0.66335517, 0.60668878, 0.56608566, 0.60687496]),\n",
       " array([0.55672378, 0.70607819, 0.4972986 , 0.43508961, 0.60934192,\n",
       "        0.66335517, 0.60668878, 0.56608566, 0.60687496, 0.47510347]),\n",
       " array([0.70607819, 0.4972986 , 0.43508961, 0.60934192, 0.66335517,\n",
       "        0.60668878, 0.56608566, 0.60687496, 0.47510347, 0.34214276]),\n",
       " array([0.4972986 , 0.43508961, 0.60934192, 0.66335517, 0.60668878,\n",
       "        0.56608566, 0.60687496, 0.47510347, 0.34214276, 0.02773905]),\n",
       " array([0.43508961, 0.60934192, 0.66335517, 0.60668878, 0.56608566,\n",
       "        0.60687496, 0.47510347, 0.34214276, 0.02773905, 0.21193159]),\n",
       " array([0.60934192, 0.66335517, 0.60668878, 0.56608566, 0.60687496,\n",
       "        0.47510347, 0.34214276, 0.02773905, 0.21193159, 0.3185839 ]),\n",
       " array([0.66335517, 0.60668878, 0.56608566, 0.60687496, 0.47510347,\n",
       "        0.34214276, 0.02773905, 0.21193159, 0.3185839 , 0.37527646]),\n",
       " array([0.60668878, 0.56608566, 0.60687496, 0.47510347, 0.34214276,\n",
       "        0.02773905, 0.21193159, 0.3185839 , 0.37527646, 0.18567465]),\n",
       " array([0.56608566, 0.60687496, 0.47510347, 0.34214276, 0.02773905,\n",
       "        0.21193159, 0.3185839 , 0.37527646, 0.18567465, 0.18861522]),\n",
       " array([0.60687496, 0.47510347, 0.34214276, 0.02773905, 0.21193159,\n",
       "        0.3185839 , 0.37527646, 0.18567465, 0.18861522, 0.13992536]),\n",
       " array([0.47510347, 0.34214276, 0.02773905, 0.21193159, 0.3185839 ,\n",
       "        0.37527646, 0.18567465, 0.18861522, 0.13992536, 0.24164677]),\n",
       " array([0.34214276, 0.02773905, 0.21193159, 0.3185839 , 0.37527646,\n",
       "        0.18567465, 0.18861522, 0.13992536, 0.24164677, 0.2542185 ]),\n",
       " array([0.02773905, 0.21193159, 0.3185839 , 0.37527646, 0.18567465,\n",
       "        0.18861522, 0.13992536, 0.24164677, 0.2542185 , 0.2193179 ]),\n",
       " array([0.21193159, 0.3185839 , 0.37527646, 0.18567465, 0.18861522,\n",
       "        0.13992536, 0.24164677, 0.2542185 , 0.2193179 , 0.20537025]),\n",
       " array([0.3185839 , 0.37527646, 0.18567465, 0.18861522, 0.13992536,\n",
       "        0.24164677, 0.2542185 , 0.2193179 , 0.20537025, 0.27379624]),\n",
       " array([0.37527646, 0.18567465, 0.18861522, 0.13992536, 0.24164677,\n",
       "        0.2542185 , 0.2193179 , 0.20537025, 0.27379624, 0.25201592]),\n",
       " array([0.18567465, 0.18861522, 0.13992536, 0.24164677, 0.2542185 ,\n",
       "        0.2193179 , 0.20537025, 0.27379624, 0.25201592, 0.28987884]),\n",
       " array([0.18861522, 0.13992536, 0.24164677, 0.2542185 , 0.2193179 ,\n",
       "        0.20537025, 0.27379624, 0.25201592, 0.28987884, 0.2255248 ]),\n",
       " array([0.13992536, 0.24164677, 0.2542185 , 0.2193179 , 0.20537025,\n",
       "        0.27379624, 0.25201592, 0.28987884, 0.2255248 , 0.26643953]),\n",
       " array([0.24164677, 0.2542185 , 0.2193179 , 0.20537025, 0.27379624,\n",
       "        0.25201592, 0.28987884, 0.2255248 , 0.26643953, 0.21551083]),\n",
       " array([0.2542185 , 0.2193179 , 0.20537025, 0.27379624, 0.25201592,\n",
       "        0.28987884, 0.2255248 , 0.26643953, 0.21551083, 0.10110351]),\n",
       " array([0.2193179 , 0.20537025, 0.27379624, 0.25201592, 0.28987884,\n",
       "        0.2255248 , 0.26643953, 0.21551083, 0.10110351, 0.25613449]),\n",
       " array([0.20537025, 0.27379624, 0.25201592, 0.28987884, 0.2255248 ,\n",
       "        0.26643953, 0.21551083, 0.10110351, 0.25613449, 0.38366212]),\n",
       " array([0.27379624, 0.25201592, 0.28987884, 0.2255248 , 0.26643953,\n",
       "        0.21551083, 0.10110351, 0.25613449, 0.38366212, 0.42997924]),\n",
       " array([0.25201592, 0.28987884, 0.2255248 , 0.26643953, 0.21551083,\n",
       "        0.10110351, 0.25613449, 0.38366212, 0.42997924, 0.29825628]),\n",
       " array([0.28987884, 0.2255248 , 0.26643953, 0.21551083, 0.10110351,\n",
       "        0.25613449, 0.38366212, 0.42997924, 0.29825628, 0.17809869]),\n",
       " array([0.2255248 , 0.26643953, 0.21551083, 0.10110351, 0.25613449,\n",
       "        0.38366212, 0.42997924, 0.29825628, 0.17809869, 0.42429942]),\n",
       " array([0.26643953, 0.21551083, 0.10110351, 0.25613449, 0.38366212,\n",
       "        0.42997924, 0.29825628, 0.17809869, 0.42429942, 0.36520485]),\n",
       " array([0.21551083, 0.10110351, 0.25613449, 0.38366212, 0.42997924,\n",
       "        0.29825628, 0.17809869, 0.42429942, 0.36520485, 0.20646272]),\n",
       " array([0.10110351, 0.25613449, 0.38366212, 0.42997924, 0.29825628,\n",
       "        0.17809869, 0.42429942, 0.36520485, 0.20646272, 0.2162667 ]),\n",
       " array([0.25613449, 0.38366212, 0.42997924, 0.29825628, 0.17809869,\n",
       "        0.42429942, 0.36520485, 0.20646272, 0.2162667 , 0.25647937]),\n",
       " array([0.38366212, 0.42997924, 0.29825628, 0.17809869, 0.42429942,\n",
       "        0.36520485, 0.20646272, 0.2162667 , 0.25647937, 0.22117631]),\n",
       " array([0.42997924, 0.29825628, 0.17809869, 0.42429942, 0.36520485,\n",
       "        0.20646272, 0.2162667 , 0.25647937, 0.22117631, 0.3533385 ]),\n",
       " array([0.29825628, 0.17809869, 0.42429942, 0.36520485, 0.20646272,\n",
       "        0.2162667 , 0.25647937, 0.22117631, 0.3533385 , 0.34520986]),\n",
       " array([0.17809869, 0.42429942, 0.36520485, 0.20646272, 0.2162667 ,\n",
       "        0.25647937, 0.22117631, 0.3533385 , 0.34520986, 0.32287639]),\n",
       " array([0.42429942, 0.36520485, 0.20646272, 0.2162667 , 0.25647937,\n",
       "        0.22117631, 0.3533385 , 0.34520986, 0.32287639, 0.28957544]),\n",
       " array([0.36520485, 0.20646272, 0.2162667 , 0.25647937, 0.22117631,\n",
       "        0.3533385 , 0.34520986, 0.32287639, 0.28957544, 0.35427846]),\n",
       " array([0.20646272, 0.2162667 , 0.25647937, 0.22117631, 0.3533385 ,\n",
       "        0.34520986, 0.32287639, 0.28957544, 0.35427846, 0.30045698]),\n",
       " array([0.2162667 , 0.25647937, 0.22117631, 0.3533385 , 0.34520986,\n",
       "        0.32287639, 0.28957544, 0.35427846, 0.30045698, 0.20975377]),\n",
       " array([0.25647937, 0.22117631, 0.3533385 , 0.34520986, 0.32287639,\n",
       "        0.28957544, 0.35427846, 0.30045698, 0.20975377, 0.35045925]),\n",
       " array([0.22117631, 0.3533385 , 0.34520986, 0.32287639, 0.28957544,\n",
       "        0.35427846, 0.30045698, 0.20975377, 0.35045925, 0.46462774]),\n",
       " array([0.3533385 , 0.34520986, 0.32287639, 0.28957544, 0.35427846,\n",
       "        0.30045698, 0.20975377, 0.35045925, 0.46462774, 0.73421973]),\n",
       " array([0.34520986, 0.32287639, 0.28957544, 0.35427846, 0.30045698,\n",
       "        0.20975377, 0.35045925, 0.46462774, 0.73421973, 0.42416596]),\n",
       " array([0.32287639, 0.28957544, 0.35427846, 0.30045698, 0.20975377,\n",
       "        0.35045925, 0.46462774, 0.73421973, 0.42416596, 0.69963254]),\n",
       " array([0.28957544, 0.35427846, 0.30045698, 0.20975377, 0.35045925,\n",
       "        0.46462774, 0.73421973, 0.42416596, 0.69963254, 0.45117151]),\n",
       " array([0.35427846, 0.30045698, 0.20975377, 0.35045925, 0.46462774,\n",
       "        0.73421973, 0.42416596, 0.69963254, 0.45117151, 0.58833194]),\n",
       " array([0.30045698, 0.20975377, 0.35045925, 0.46462774, 0.73421973,\n",
       "        0.42416596, 0.69963254, 0.45117151, 0.58833194, 0.53912945]),\n",
       " array([0.20975377, 0.35045925, 0.46462774, 0.73421973, 0.42416596,\n",
       "        0.69963254, 0.45117151, 0.58833194, 0.53912945, 0.60068297]),\n",
       " array([0.35045925, 0.46462774, 0.73421973, 0.42416596, 0.69963254,\n",
       "        0.45117151, 0.58833194, 0.53912945, 0.60068297, 0.61234872]),\n",
       " array([0.46462774, 0.73421973, 0.42416596, 0.69963254, 0.45117151,\n",
       "        0.58833194, 0.53912945, 0.60068297, 0.61234872, 0.64592167]),\n",
       " array([0.73421973, 0.42416596, 0.69963254, 0.45117151, 0.58833194,\n",
       "        0.53912945, 0.60068297, 0.61234872, 0.64592167, 0.57076342]),\n",
       " array([0.42416596, 0.69963254, 0.45117151, 0.58833194, 0.53912945,\n",
       "        0.60068297, 0.61234872, 0.64592167, 0.57076342, 0.57774265])]"
      ]
     },
     "execution_count": 155,
     "metadata": {},
     "output_type": "execute_result"
    }
   ],
   "source": [
    "input"
   ]
  },
  {
   "cell_type": "code",
   "execution_count": 156,
   "id": "9cebcfe6-73a8-4047-a2ae-240dada0568f",
   "metadata": {
    "scrolled": true,
    "tags": []
   },
   "outputs": [
    {
     "data": {
      "text/plain": [
       "[0.3351332844694415,\n",
       " 0.31146180820351255,\n",
       " 0.31178615351859945,\n",
       " 0.2230735547371432,\n",
       " 0.3457516841941653,\n",
       " 0.36617511171445216,\n",
       " 0.2223148384234793,\n",
       " 0.23792573277107693,\n",
       " 0.2841895424192316,\n",
       " 0.27716115364953375,\n",
       " 0.36305158720321024,\n",
       " 0.3045042979554814,\n",
       " 0.3221526442786489,\n",
       " 0.27651371465417046,\n",
       " 0.28551608462200545,\n",
       " 0.1467210377545933,\n",
       " 0.4418534380219376,\n",
       " 0.24510418073692186,\n",
       " 0.18316020976647027,\n",
       " 0.3627637085101543,\n",
       " 0.271393158451298,\n",
       " 0.2921296316564951,\n",
       " 0.26290804134272927,\n",
       " 0.30571873289325635,\n",
       " 0.22060592715694402,\n",
       " 0.27963071508609355,\n",
       " 0.3197712344613639,\n",
       " 0.270062101231093,\n",
       " 0.23605846015558707,\n",
       " 0.22454769046920142,\n",
       " 0.3224356883307894,\n",
       " 0.5045623029027768,\n",
       " 0.7162272331723668,\n",
       " 0.5567237808761438,\n",
       " 0.7060781938168518,\n",
       " 0.4972986041021995,\n",
       " 0.4350896142324575,\n",
       " 0.6093419175426958,\n",
       " 0.6633551731074279,\n",
       " 0.606688776733002,\n",
       " 0.5660856601139679,\n",
       " 0.6068749614404025,\n",
       " 0.47510346601585285,\n",
       " 0.3421427563636181,\n",
       " 0.02773904767834226,\n",
       " 0.2119315875749361,\n",
       " 0.3185839003718023,\n",
       " 0.3752764575253845,\n",
       " 0.185674652786158,\n",
       " 0.18861521568393716,\n",
       " 0.139925359053335,\n",
       " 0.2416467678666199,\n",
       " 0.2542184995009661,\n",
       " 0.2193178982408501,\n",
       " 0.2053702546622895,\n",
       " 0.27379624357532895,\n",
       " 0.2520159176791681,\n",
       " 0.2898788377211665,\n",
       " 0.22552479825647337,\n",
       " 0.2664395343413507,\n",
       " 0.2155108333962042,\n",
       " 0.10110351484571842,\n",
       " 0.25613449455319776,\n",
       " 0.3836621153267593,\n",
       " 0.4299792376346054,\n",
       " 0.2982562766329978,\n",
       " 0.1780986899009468,\n",
       " 0.42429942091476575,\n",
       " 0.36520485300180155,\n",
       " 0.2064627223535263,\n",
       " 0.21626670264355394,\n",
       " 0.2564793656048637,\n",
       " 0.22117630734800325,\n",
       " 0.35333849547639884,\n",
       " 0.34520985524359826,\n",
       " 0.3228763900230532,\n",
       " 0.28957543714487266,\n",
       " 0.3542784571060034,\n",
       " 0.3004569783166635,\n",
       " 0.20975376985825175,\n",
       " 0.3504592519408441,\n",
       " 0.46462773923031514,\n",
       " 0.7342197280369579,\n",
       " 0.4241659606524111,\n",
       " 0.699632543117549,\n",
       " 0.45117151004126693,\n",
       " 0.5883319379574851,\n",
       " 0.5391294482355947,\n",
       " 0.6006829682342334,\n",
       " 0.6123487150209384,\n",
       " 0.6459216701686074,\n",
       " 0.5707634169275912,\n",
       " 0.5777426508287804,\n",
       " 1.0]"
      ]
     },
     "execution_count": 156,
     "metadata": {},
     "output_type": "execute_result"
    }
   ],
   "source": [
    "output"
   ]
  },
  {
   "cell_type": "code",
   "execution_count": 157,
   "id": "08d88c1d-7d56-4fab-87e2-b97244ceb3a1",
   "metadata": {},
   "outputs": [],
   "source": [
    "import numpy as np"
   ]
  },
  {
   "cell_type": "code",
   "execution_count": 158,
   "id": "02e3db14-5d32-469e-9f78-09dbbbfd55ea",
   "metadata": {},
   "outputs": [],
   "source": [
    "input_array=np.asarray(input)"
   ]
  },
  {
   "cell_type": "code",
   "execution_count": 159,
   "id": "02bded43-b62b-444b-8b04-c242fcf7af77",
   "metadata": {},
   "outputs": [
    {
     "data": {
      "text/plain": [
       "(94, 10)"
      ]
     },
     "execution_count": 159,
     "metadata": {},
     "output_type": "execute_result"
    }
   ],
   "source": [
    "input_array.shape"
   ]
  },
  {
   "cell_type": "code",
   "execution_count": 160,
   "id": "5ea3d1d0-4139-4751-b486-6f0b967dc223",
   "metadata": {},
   "outputs": [],
   "source": [
    "output_array= np.asarray(output)\n",
    "output_array=output_array.reshape([output_array.shape[0],1])"
   ]
  },
  {
   "cell_type": "code",
   "execution_count": 161,
   "id": "170c692f-4825-4ec5-8d1e-cbcd4a27c599",
   "metadata": {},
   "outputs": [
    {
     "data": {
      "text/plain": [
       "array([[0.33513328],\n",
       "       [0.31146181],\n",
       "       [0.31178615],\n",
       "       [0.22307355]])"
      ]
     },
     "execution_count": 161,
     "metadata": {},
     "output_type": "execute_result"
    }
   ],
   "source": [
    "output_array[:4]"
   ]
  },
  {
   "cell_type": "code",
   "execution_count": 162,
   "id": "36cef6ba-a6cd-42a4-87e6-31833f458475",
   "metadata": {},
   "outputs": [],
   "source": [
    "# input_array=input_array.reshape([input_array.shape[0],1])\n",
    "# input_array.shape"
   ]
  },
  {
   "cell_type": "code",
   "execution_count": 163,
   "id": "4dcfde55-8271-46ac-9946-99dbd8fbbdf5",
   "metadata": {},
   "outputs": [
    {
     "data": {
      "text/plain": [
       "(94, 1)"
      ]
     },
     "execution_count": 163,
     "metadata": {},
     "output_type": "execute_result"
    }
   ],
   "source": [
    "output_array.shape"
   ]
  },
  {
   "cell_type": "code",
   "execution_count": 164,
   "id": "1840a954-6efb-4eac-be2e-d17c03c1734b",
   "metadata": {},
   "outputs": [],
   "source": [
    "reshaped_input=input_array.reshape([input_array.shape[0],input_array.shape[1],1])"
   ]
  },
  {
   "cell_type": "code",
   "execution_count": 165,
   "id": "bfa78a96-b657-49c9-9582-dde5ee839b36",
   "metadata": {},
   "outputs": [
    {
     "data": {
      "text/plain": [
       "(94, 10, 1)"
      ]
     },
     "execution_count": 165,
     "metadata": {},
     "output_type": "execute_result"
    }
   ],
   "source": [
    "reshaped_input.shape"
   ]
  },
  {
   "cell_type": "code",
   "execution_count": 166,
   "id": "c0a24c3c-85e8-41a5-a32b-11680b69d3cc",
   "metadata": {
    "scrolled": true,
    "tags": []
   },
   "outputs": [
    {
     "name": "stdout",
     "output_type": "stream",
     "text": [
      "Epoch 1/200\n",
      "3/3 [==============================] - 7s 20ms/step - loss: 0.1506\n",
      "Epoch 2/200\n",
      "3/3 [==============================] - 0s 17ms/step - loss: 0.1399\n",
      "Epoch 3/200\n",
      "3/3 [==============================] - 0s 19ms/step - loss: 0.1283\n",
      "Epoch 4/200\n",
      "3/3 [==============================] - 0s 18ms/step - loss: 0.1165\n",
      "Epoch 5/200\n",
      "3/3 [==============================] - 0s 19ms/step - loss: 0.1029\n",
      "Epoch 6/200\n",
      "3/3 [==============================] - 0s 19ms/step - loss: 0.0888\n",
      "Epoch 7/200\n",
      "3/3 [==============================] - 0s 20ms/step - loss: 0.0747\n",
      "Epoch 8/200\n",
      "3/3 [==============================] - 0s 17ms/step - loss: 0.0589\n",
      "Epoch 9/200\n",
      "3/3 [==============================] - 0s 19ms/step - loss: 0.0426\n",
      "Epoch 10/200\n",
      "3/3 [==============================] - 0s 31ms/step - loss: 0.0291\n",
      "Epoch 11/200\n",
      "3/3 [==============================] - 0s 18ms/step - loss: 0.0229\n",
      "Epoch 12/200\n",
      "3/3 [==============================] - 0s 21ms/step - loss: 0.0295\n",
      "Epoch 13/200\n",
      "3/3 [==============================] - 0s 17ms/step - loss: 0.0294\n",
      "Epoch 14/200\n",
      "3/3 [==============================] - 0s 18ms/step - loss: 0.0245\n",
      "Epoch 15/200\n",
      "3/3 [==============================] - 0s 18ms/step - loss: 0.0222\n",
      "Epoch 16/200\n",
      "3/3 [==============================] - 0s 18ms/step - loss: 0.0228\n",
      "Epoch 17/200\n",
      "3/3 [==============================] - 0s 17ms/step - loss: 0.0238\n",
      "Epoch 18/200\n",
      "3/3 [==============================] - 0s 18ms/step - loss: 0.0237\n",
      "Epoch 19/200\n",
      "3/3 [==============================] - 0s 17ms/step - loss: 0.0230\n",
      "Epoch 20/200\n",
      "3/3 [==============================] - 0s 17ms/step - loss: 0.0224\n",
      "Epoch 21/200\n",
      "3/3 [==============================] - 0s 19ms/step - loss: 0.0222\n",
      "Epoch 22/200\n",
      "3/3 [==============================] - 0s 20ms/step - loss: 0.0221\n",
      "Epoch 23/200\n",
      "3/3 [==============================] - 0s 19ms/step - loss: 0.0221\n",
      "Epoch 24/200\n",
      "3/3 [==============================] - 0s 19ms/step - loss: 0.0219\n",
      "Epoch 25/200\n",
      "3/3 [==============================] - 0s 17ms/step - loss: 0.0216\n",
      "Epoch 26/200\n",
      "3/3 [==============================] - 0s 17ms/step - loss: 0.0216\n",
      "Epoch 27/200\n",
      "3/3 [==============================] - 0s 21ms/step - loss: 0.0215\n",
      "Epoch 28/200\n",
      "3/3 [==============================] - 0s 20ms/step - loss: 0.0215\n",
      "Epoch 29/200\n",
      "3/3 [==============================] - 0s 20ms/step - loss: 0.0214\n",
      "Epoch 30/200\n",
      "3/3 [==============================] - 0s 19ms/step - loss: 0.0212\n",
      "Epoch 31/200\n",
      "3/3 [==============================] - 0s 17ms/step - loss: 0.0212\n",
      "Epoch 32/200\n",
      "3/3 [==============================] - 0s 18ms/step - loss: 0.0211\n",
      "Epoch 33/200\n",
      "3/3 [==============================] - 0s 18ms/step - loss: 0.0211\n",
      "Epoch 34/200\n",
      "3/3 [==============================] - 0s 18ms/step - loss: 0.0209\n",
      "Epoch 35/200\n",
      "3/3 [==============================] - 0s 20ms/step - loss: 0.0208\n",
      "Epoch 36/200\n",
      "3/3 [==============================] - 0s 20ms/step - loss: 0.0209\n",
      "Epoch 37/200\n",
      "3/3 [==============================] - 0s 17ms/step - loss: 0.0207\n",
      "Epoch 38/200\n",
      "3/3 [==============================] - 0s 16ms/step - loss: 0.0207\n",
      "Epoch 39/200\n",
      "3/3 [==============================] - 0s 17ms/step - loss: 0.0205\n",
      "Epoch 40/200\n",
      "3/3 [==============================] - 0s 17ms/step - loss: 0.0204\n",
      "Epoch 41/200\n",
      "3/3 [==============================] - 0s 17ms/step - loss: 0.0203\n",
      "Epoch 42/200\n",
      "3/3 [==============================] - 0s 17ms/step - loss: 0.0202\n",
      "Epoch 43/200\n",
      "3/3 [==============================] - 0s 19ms/step - loss: 0.0202\n",
      "Epoch 44/200\n",
      "3/3 [==============================] - 0s 21ms/step - loss: 0.0202\n",
      "Epoch 45/200\n",
      "3/3 [==============================] - 0s 18ms/step - loss: 0.0201\n",
      "Epoch 46/200\n",
      "3/3 [==============================] - 0s 17ms/step - loss: 0.0200\n",
      "Epoch 47/200\n",
      "3/3 [==============================] - 0s 18ms/step - loss: 0.0199\n",
      "Epoch 48/200\n",
      "3/3 [==============================] - 0s 18ms/step - loss: 0.0198\n",
      "Epoch 49/200\n",
      "3/3 [==============================] - 0s 18ms/step - loss: 0.0197\n",
      "Epoch 50/200\n",
      "3/3 [==============================] - 0s 18ms/step - loss: 0.0197\n",
      "Epoch 51/200\n",
      "3/3 [==============================] - 0s 17ms/step - loss: 0.0196\n",
      "Epoch 52/200\n",
      "3/3 [==============================] - 0s 18ms/step - loss: 0.0195\n",
      "Epoch 53/200\n",
      "3/3 [==============================] - 0s 20ms/step - loss: 0.0194\n",
      "Epoch 54/200\n",
      "3/3 [==============================] - 0s 18ms/step - loss: 0.0194\n",
      "Epoch 55/200\n",
      "3/3 [==============================] - 0s 17ms/step - loss: 0.0192\n",
      "Epoch 56/200\n",
      "3/3 [==============================] - 0s 17ms/step - loss: 0.0192\n",
      "Epoch 57/200\n",
      "3/3 [==============================] - 0s 17ms/step - loss: 0.0192\n",
      "Epoch 58/200\n",
      "3/3 [==============================] - 0s 17ms/step - loss: 0.0190\n",
      "Epoch 59/200\n",
      "3/3 [==============================] - 0s 17ms/step - loss: 0.0189\n",
      "Epoch 60/200\n",
      "3/3 [==============================] - 0s 18ms/step - loss: 0.0189\n",
      "Epoch 61/200\n",
      "3/3 [==============================] - 0s 21ms/step - loss: 0.0187\n",
      "Epoch 62/200\n",
      "3/3 [==============================] - 0s 21ms/step - loss: 0.0187\n",
      "Epoch 63/200\n",
      "3/3 [==============================] - 0s 18ms/step - loss: 0.0185\n",
      "Epoch 64/200\n",
      "3/3 [==============================] - 0s 19ms/step - loss: 0.0186\n",
      "Epoch 65/200\n",
      "3/3 [==============================] - 0s 20ms/step - loss: 0.0184\n",
      "Epoch 66/200\n",
      "3/3 [==============================] - 0s 18ms/step - loss: 0.0182\n",
      "Epoch 67/200\n",
      "3/3 [==============================] - 0s 18ms/step - loss: 0.0183\n",
      "Epoch 68/200\n",
      "3/3 [==============================] - 0s 18ms/step - loss: 0.0184\n",
      "Epoch 69/200\n",
      "3/3 [==============================] - 0s 18ms/step - loss: 0.0179\n",
      "Epoch 70/200\n",
      "3/3 [==============================] - 0s 17ms/step - loss: 0.0178\n",
      "Epoch 71/200\n",
      "3/3 [==============================] - 0s 17ms/step - loss: 0.0175\n",
      "Epoch 72/200\n",
      "3/3 [==============================] - 0s 17ms/step - loss: 0.0173\n",
      "Epoch 73/200\n",
      "3/3 [==============================] - 0s 16ms/step - loss: 0.0183\n",
      "Epoch 74/200\n",
      "3/3 [==============================] - 0s 16ms/step - loss: 0.0171\n",
      "Epoch 75/200\n",
      "3/3 [==============================] - 0s 16ms/step - loss: 0.0171\n",
      "Epoch 76/200\n",
      "3/3 [==============================] - 0s 17ms/step - loss: 0.0169\n",
      "Epoch 77/200\n",
      "3/3 [==============================] - 0s 16ms/step - loss: 0.0165\n",
      "Epoch 78/200\n",
      "3/3 [==============================] - 0s 17ms/step - loss: 0.0166\n",
      "Epoch 79/200\n",
      "3/3 [==============================] - 0s 20ms/step - loss: 0.0165\n",
      "Epoch 80/200\n",
      "3/3 [==============================] - 0s 18ms/step - loss: 0.0163\n",
      "Epoch 81/200\n",
      "3/3 [==============================] - 0s 17ms/step - loss: 0.0163\n",
      "Epoch 82/200\n",
      "3/3 [==============================] - 0s 17ms/step - loss: 0.0168\n",
      "Epoch 83/200\n",
      "3/3 [==============================] - 0s 16ms/step - loss: 0.0165\n",
      "Epoch 84/200\n",
      "3/3 [==============================] - 0s 17ms/step - loss: 0.0163\n",
      "Epoch 85/200\n",
      "3/3 [==============================] - 0s 17ms/step - loss: 0.0161\n",
      "Epoch 86/200\n",
      "3/3 [==============================] - 0s 18ms/step - loss: 0.0162\n",
      "Epoch 87/200\n",
      "3/3 [==============================] - 0s 17ms/step - loss: 0.0159\n",
      "Epoch 88/200\n",
      "3/3 [==============================] - 0s 17ms/step - loss: 0.0161\n",
      "Epoch 89/200\n",
      "3/3 [==============================] - 0s 17ms/step - loss: 0.0157\n",
      "Epoch 90/200\n",
      "3/3 [==============================] - 0s 17ms/step - loss: 0.0159\n",
      "Epoch 91/200\n",
      "3/3 [==============================] - 0s 17ms/step - loss: 0.0159\n",
      "Epoch 92/200\n",
      "3/3 [==============================] - 0s 18ms/step - loss: 0.0156\n",
      "Epoch 93/200\n",
      "3/3 [==============================] - 0s 16ms/step - loss: 0.0158\n",
      "Epoch 94/200\n",
      "3/3 [==============================] - 0s 15ms/step - loss: 0.0158\n",
      "Epoch 95/200\n",
      "3/3 [==============================] - 0s 16ms/step - loss: 0.0159\n",
      "Epoch 96/200\n",
      "3/3 [==============================] - 0s 16ms/step - loss: 0.0158\n",
      "Epoch 97/200\n",
      "3/3 [==============================] - 0s 18ms/step - loss: 0.0157\n",
      "Epoch 98/200\n",
      "3/3 [==============================] - 0s 23ms/step - loss: 0.0157\n",
      "Epoch 99/200\n",
      "3/3 [==============================] - 0s 17ms/step - loss: 0.0154\n",
      "Epoch 100/200\n",
      "3/3 [==============================] - 0s 17ms/step - loss: 0.0155\n",
      "Epoch 101/200\n",
      "3/3 [==============================] - 0s 17ms/step - loss: 0.0155\n",
      "Epoch 102/200\n",
      "3/3 [==============================] - 0s 18ms/step - loss: 0.0156\n",
      "Epoch 103/200\n",
      "3/3 [==============================] - 0s 17ms/step - loss: 0.0151\n",
      "Epoch 104/200\n",
      "3/3 [==============================] - 0s 18ms/step - loss: 0.0162\n",
      "Epoch 105/200\n",
      "3/3 [==============================] - 0s 18ms/step - loss: 0.0154\n",
      "Epoch 106/200\n",
      "3/3 [==============================] - 0s 17ms/step - loss: 0.0157\n",
      "Epoch 107/200\n",
      "3/3 [==============================] - 0s 17ms/step - loss: 0.0152\n",
      "Epoch 108/200\n",
      "3/3 [==============================] - 0s 17ms/step - loss: 0.0156\n",
      "Epoch 109/200\n",
      "3/3 [==============================] - 0s 16ms/step - loss: 0.0154\n",
      "Epoch 110/200\n",
      "3/3 [==============================] - 0s 16ms/step - loss: 0.0152\n",
      "Epoch 111/200\n",
      "3/3 [==============================] - 0s 16ms/step - loss: 0.0153\n",
      "Epoch 112/200\n",
      "3/3 [==============================] - 0s 16ms/step - loss: 0.0152\n",
      "Epoch 113/200\n",
      "3/3 [==============================] - 0s 17ms/step - loss: 0.0153\n",
      "Epoch 114/200\n",
      "3/3 [==============================] - 0s 17ms/step - loss: 0.0149\n",
      "Epoch 115/200\n",
      "3/3 [==============================] - 0s 17ms/step - loss: 0.0150\n",
      "Epoch 116/200\n",
      "3/3 [==============================] - 0s 20ms/step - loss: 0.0150\n",
      "Epoch 117/200\n",
      "3/3 [==============================] - 0s 16ms/step - loss: 0.0151\n",
      "Epoch 118/200\n",
      "3/3 [==============================] - 0s 16ms/step - loss: 0.0150\n",
      "Epoch 119/200\n",
      "3/3 [==============================] - 0s 17ms/step - loss: 0.0149\n",
      "Epoch 120/200\n",
      "3/3 [==============================] - 0s 17ms/step - loss: 0.0149\n",
      "Epoch 121/200\n",
      "3/3 [==============================] - 0s 17ms/step - loss: 0.0150\n",
      "Epoch 122/200\n",
      "3/3 [==============================] - 0s 18ms/step - loss: 0.0149\n",
      "Epoch 123/200\n",
      "3/3 [==============================] - 0s 17ms/step - loss: 0.0148\n",
      "Epoch 124/200\n",
      "3/3 [==============================] - 0s 18ms/step - loss: 0.0151\n",
      "Epoch 125/200\n",
      "3/3 [==============================] - 0s 18ms/step - loss: 0.0146\n",
      "Epoch 126/200\n",
      "3/3 [==============================] - 0s 17ms/step - loss: 0.0149\n",
      "Epoch 127/200\n",
      "3/3 [==============================] - 0s 16ms/step - loss: 0.0146\n",
      "Epoch 128/200\n",
      "3/3 [==============================] - 0s 17ms/step - loss: 0.0148\n",
      "Epoch 129/200\n",
      "3/3 [==============================] - 0s 17ms/step - loss: 0.0150\n",
      "Epoch 130/200\n",
      "3/3 [==============================] - 0s 18ms/step - loss: 0.0148\n",
      "Epoch 131/200\n",
      "3/3 [==============================] - 0s 17ms/step - loss: 0.0146\n",
      "Epoch 132/200\n",
      "3/3 [==============================] - 0s 18ms/step - loss: 0.0150\n",
      "Epoch 133/200\n",
      "3/3 [==============================] - 0s 17ms/step - loss: 0.0155\n",
      "Epoch 134/200\n",
      "3/3 [==============================] - 0s 20ms/step - loss: 0.0146\n",
      "Epoch 135/200\n",
      "3/3 [==============================] - 0s 16ms/step - loss: 0.0148\n",
      "Epoch 136/200\n",
      "3/3 [==============================] - 0s 16ms/step - loss: 0.0145\n",
      "Epoch 137/200\n",
      "3/3 [==============================] - 0s 18ms/step - loss: 0.0144\n",
      "Epoch 138/200\n",
      "3/3 [==============================] - 0s 17ms/step - loss: 0.0147\n",
      "Epoch 139/200\n",
      "3/3 [==============================] - 0s 18ms/step - loss: 0.0144\n",
      "Epoch 140/200\n",
      "3/3 [==============================] - 0s 17ms/step - loss: 0.0145\n",
      "Epoch 141/200\n",
      "3/3 [==============================] - 0s 17ms/step - loss: 0.0145\n",
      "Epoch 142/200\n",
      "3/3 [==============================] - 0s 17ms/step - loss: 0.0146\n",
      "Epoch 143/200\n",
      "3/3 [==============================] - 0s 17ms/step - loss: 0.0146\n",
      "Epoch 144/200\n",
      "3/3 [==============================] - 0s 18ms/step - loss: 0.0144\n",
      "Epoch 145/200\n",
      "3/3 [==============================] - 0s 17ms/step - loss: 0.0143\n",
      "Epoch 146/200\n",
      "3/3 [==============================] - 0s 17ms/step - loss: 0.0143\n",
      "Epoch 147/200\n",
      "3/3 [==============================] - 0s 17ms/step - loss: 0.0143\n",
      "Epoch 148/200\n",
      "3/3 [==============================] - 0s 17ms/step - loss: 0.0143\n",
      "Epoch 149/200\n",
      "3/3 [==============================] - 0s 17ms/step - loss: 0.0146\n",
      "Epoch 150/200\n",
      "3/3 [==============================] - 0s 17ms/step - loss: 0.0142\n",
      "Epoch 151/200\n",
      "3/3 [==============================] - 0s 16ms/step - loss: 0.0149\n",
      "Epoch 152/200\n",
      "3/3 [==============================] - 0s 20ms/step - loss: 0.0143\n",
      "Epoch 153/200\n",
      "3/3 [==============================] - 0s 19ms/step - loss: 0.0145\n",
      "Epoch 154/200\n",
      "3/3 [==============================] - 0s 17ms/step - loss: 0.0142\n",
      "Epoch 155/200\n",
      "3/3 [==============================] - 0s 17ms/step - loss: 0.0143\n",
      "Epoch 156/200\n",
      "3/3 [==============================] - 0s 17ms/step - loss: 0.0146\n",
      "Epoch 157/200\n",
      "3/3 [==============================] - 0s 17ms/step - loss: 0.0143\n",
      "Epoch 158/200\n",
      "3/3 [==============================] - 0s 17ms/step - loss: 0.0142\n",
      "Epoch 159/200\n",
      "3/3 [==============================] - 0s 16ms/step - loss: 0.0140\n",
      "Epoch 160/200\n",
      "3/3 [==============================] - 0s 18ms/step - loss: 0.0142\n",
      "Epoch 161/200\n",
      "3/3 [==============================] - 0s 16ms/step - loss: 0.0141\n",
      "Epoch 162/200\n",
      "3/3 [==============================] - 0s 17ms/step - loss: 0.0141\n",
      "Epoch 163/200\n",
      "3/3 [==============================] - 0s 17ms/step - loss: 0.0139\n",
      "Epoch 164/200\n",
      "3/3 [==============================] - 0s 17ms/step - loss: 0.0138\n",
      "Epoch 165/200\n",
      "3/3 [==============================] - 0s 17ms/step - loss: 0.0141\n",
      "Epoch 166/200\n",
      "3/3 [==============================] - 0s 16ms/step - loss: 0.0140\n",
      "Epoch 167/200\n",
      "3/3 [==============================] - 0s 16ms/step - loss: 0.0141\n",
      "Epoch 168/200\n",
      "3/3 [==============================] - 0s 17ms/step - loss: 0.0137\n",
      "Epoch 169/200\n",
      "3/3 [==============================] - 0s 16ms/step - loss: 0.0139\n",
      "Epoch 170/200\n",
      "3/3 [==============================] - 0s 17ms/step - loss: 0.0141\n",
      "Epoch 171/200\n",
      "3/3 [==============================] - 0s 20ms/step - loss: 0.0137\n",
      "Epoch 172/200\n",
      "3/3 [==============================] - 0s 17ms/step - loss: 0.0141\n",
      "Epoch 173/200\n",
      "3/3 [==============================] - 0s 17ms/step - loss: 0.0137\n",
      "Epoch 174/200\n",
      "3/3 [==============================] - 0s 18ms/step - loss: 0.0141\n",
      "Epoch 175/200\n",
      "3/3 [==============================] - 0s 18ms/step - loss: 0.0143\n",
      "Epoch 176/200\n",
      "3/3 [==============================] - 0s 18ms/step - loss: 0.0141\n",
      "Epoch 177/200\n",
      "3/3 [==============================] - 0s 17ms/step - loss: 0.0137\n",
      "Epoch 178/200\n",
      "3/3 [==============================] - 0s 17ms/step - loss: 0.0136\n",
      "Epoch 179/200\n",
      "3/3 [==============================] - 0s 17ms/step - loss: 0.0136\n",
      "Epoch 180/200\n",
      "3/3 [==============================] - 0s 18ms/step - loss: 0.0135\n",
      "Epoch 181/200\n",
      "3/3 [==============================] - 0s 18ms/step - loss: 0.0134\n",
      "Epoch 182/200\n",
      "3/3 [==============================] - 0s 16ms/step - loss: 0.0134\n",
      "Epoch 183/200\n",
      "3/3 [==============================] - 0s 16ms/step - loss: 0.0137\n",
      "Epoch 184/200\n",
      "3/3 [==============================] - 0s 17ms/step - loss: 0.0133\n",
      "Epoch 185/200\n",
      "3/3 [==============================] - 0s 17ms/step - loss: 0.0144\n",
      "Epoch 186/200\n",
      "3/3 [==============================] - 0s 18ms/step - loss: 0.0130\n",
      "Epoch 187/200\n",
      "3/3 [==============================] - 0s 18ms/step - loss: 0.0140\n",
      "Epoch 188/200\n",
      "3/3 [==============================] - 0s 18ms/step - loss: 0.0134\n",
      "Epoch 189/200\n",
      "3/3 [==============================] - 0s 19ms/step - loss: 0.0137\n",
      "Epoch 190/200\n",
      "3/3 [==============================] - 0s 16ms/step - loss: 0.0142\n",
      "Epoch 191/200\n",
      "3/3 [==============================] - 0s 16ms/step - loss: 0.0137\n",
      "Epoch 192/200\n",
      "3/3 [==============================] - 0s 17ms/step - loss: 0.0136\n",
      "Epoch 193/200\n",
      "3/3 [==============================] - 0s 19ms/step - loss: 0.0133\n",
      "Epoch 194/200\n",
      "3/3 [==============================] - 0s 19ms/step - loss: 0.0132\n",
      "Epoch 195/200\n",
      "3/3 [==============================] - 0s 17ms/step - loss: 0.0134\n",
      "Epoch 196/200\n",
      "3/3 [==============================] - 0s 18ms/step - loss: 0.0134\n",
      "Epoch 197/200\n",
      "3/3 [==============================] - 0s 17ms/step - loss: 0.0131\n",
      "Epoch 198/200\n",
      "3/3 [==============================] - 0s 18ms/step - loss: 0.0141\n",
      "Epoch 199/200\n",
      "3/3 [==============================] - 0s 16ms/step - loss: 0.0134\n",
      "Epoch 200/200\n",
      "3/3 [==============================] - 0s 17ms/step - loss: 0.0140\n"
     ]
    },
    {
     "data": {
      "text/plain": [
       "<keras.callbacks.History at 0x1ca6b1a9d60>"
      ]
     },
     "execution_count": 166,
     "metadata": {},
     "output_type": "execute_result"
    }
   ],
   "source": [
    "model = Sequential()\n",
    "model.add(LSTM(50, activation='relu', return_sequences=True, input_shape=(n_steps, 1)))\n",
    "model.add(LSTM(20, activation='relu'))\n",
    "model.add(Dense(1))\n",
    "model.compile(optimizer='adam', loss='mse')\n",
    "# fit model\n",
    "model.fit(np.array(input), np.array(output), epochs=200, verbose=1)"
   ]
  },
  {
   "cell_type": "code",
   "execution_count": 167,
   "id": "fd91187c-c8a0-4a8a-9c8a-11521ae67724",
   "metadata": {},
   "outputs": [
    {
     "data": {
      "text/plain": [
       "[0.6459216701686074, 0.5707634169275912, 0.5777426508287804]"
      ]
     },
     "execution_count": 167,
     "metadata": {},
     "output_type": "execute_result"
    }
   ],
   "source": [
    "output[-4:-1]"
   ]
  },
  {
   "cell_type": "code",
   "execution_count": 168,
   "id": "f8537fce-27b2-45fa-8821-ed92665ceb4c",
   "metadata": {},
   "outputs": [
    {
     "data": {
      "text/plain": [
       "[0.4241659606524111,\n",
       " 0.699632543117549,\n",
       " 0.45117151004126693,\n",
       " 0.5883319379574851,\n",
       " 0.5391294482355947,\n",
       " 0.6006829682342334,\n",
       " 0.6123487150209384,\n",
       " 0.6459216701686074,\n",
       " 0.5707634169275912,\n",
       " 0.5777426508287804,\n",
       " 1.0]"
      ]
     },
     "execution_count": 168,
     "metadata": {},
     "output_type": "execute_result"
    }
   ],
   "source": [
    "output[-11:]"
   ]
  },
  {
   "cell_type": "code",
   "execution_count": 169,
   "id": "bd5448f3-982f-49ad-b8ae-e6cdf6bffba4",
   "metadata": {
    "scrolled": true,
    "tags": []
   },
   "outputs": [
    {
     "name": "stdout",
     "output_type": "stream",
     "text": [
      "[0.5982326]\n",
      "1 day input [0.45117151 0.58833194 0.53912945 0.60068297 0.61234872 0.64592167\n",
      " 0.57076342 0.57774265 1.         0.59823263]\n",
      "1 day output [[0.7506823]]\n",
      "2 day input [0.58833194 0.53912945 0.60068297 0.61234872 0.64592167 0.57076342\n",
      " 0.57774265 1.         0.59823263 0.75068229]\n",
      "2 day output [[0.6776899]]\n",
      "3 day input [0.53912945 0.60068297 0.61234872 0.64592167 0.57076342 0.57774265\n",
      " 1.         0.59823263 0.75068229 0.67768991]\n",
      "3 day output [[0.69716793]]\n",
      "4 day input [0.60068297 0.61234872 0.64592167 0.57076342 0.57774265 1.\n",
      " 0.59823263 0.75068229 0.67768991 0.69716793]\n",
      "4 day output [[0.62093955]]\n",
      "5 day input [0.61234872 0.64592167 0.57076342 0.57774265 1.         0.59823263\n",
      " 0.75068229 0.67768991 0.69716793 0.62093955]\n",
      "5 day output [[0.561155]]\n",
      "6 day input [0.64592167 0.57076342 0.57774265 1.         0.59823263 0.75068229\n",
      " 0.67768991 0.69716793 0.62093955 0.56115502]\n",
      "6 day output [[0.44925922]]\n",
      "7 day input [0.57076342 0.57774265 1.         0.59823263 0.75068229 0.67768991\n",
      " 0.69716793 0.62093955 0.56115502 0.44925922]\n",
      "7 day output [[0.3992321]]\n",
      "8 day input [0.57774265 1.         0.59823263 0.75068229 0.67768991 0.69716793\n",
      " 0.62093955 0.56115502 0.44925922 0.39923209]\n",
      "8 day output [[0.23458128]]\n",
      "9 day input [1.         0.59823263 0.75068229 0.67768991 0.69716793 0.62093955\n",
      " 0.56115502 0.44925922 0.39923209 0.23458128]\n",
      "9 day output [[0.11517996]]\n",
      "10 day input [0.5982326  0.7506823  0.6776899  0.69716793 0.62093955 0.561155\n",
      " 0.44925922 0.3992321  0.23458128 0.11517996]\n",
      "10 day output [[0.240982]]\n",
      "11 day input [0.7506823  0.6776899  0.69716793 0.62093955 0.561155   0.44925922\n",
      " 0.3992321  0.23458128 0.11517996 0.240982  ]\n",
      "11 day output [[0.158255]]\n",
      "12 day input [0.6776899  0.69716793 0.62093955 0.561155   0.44925922 0.3992321\n",
      " 0.23458128 0.11517996 0.240982   0.158255  ]\n",
      "12 day output [[0.16629882]]\n",
      "13 day input [0.69716793 0.62093955 0.561155   0.44925922 0.3992321  0.23458128\n",
      " 0.11517996 0.240982   0.158255   0.16629882]\n",
      "13 day output [[0.15092081]]\n",
      "14 day input [0.62093955 0.561155   0.44925922 0.3992321  0.23458128 0.11517996\n",
      " 0.240982   0.158255   0.16629882 0.15092081]\n",
      "14 day output [[0.1643197]]\n",
      "15 day input [0.561155   0.44925922 0.3992321  0.23458128 0.11517996 0.240982\n",
      " 0.158255   0.16629882 0.15092081 0.1643197 ]\n",
      "15 day output [[0.18112934]]\n",
      "16 day input [0.44925922 0.3992321  0.23458128 0.11517996 0.240982   0.158255\n",
      " 0.16629882 0.15092081 0.1643197  0.18112934]\n",
      "16 day output [[0.20753852]]\n",
      "17 day input [0.3992321  0.23458128 0.11517996 0.240982   0.158255   0.16629882\n",
      " 0.15092081 0.1643197  0.18112934 0.20753852]\n",
      "17 day output [[0.21511286]]\n",
      "18 day input [0.23458128 0.11517996 0.240982   0.158255   0.16629882 0.15092081\n",
      " 0.1643197  0.18112934 0.20753852 0.21511286]\n",
      "18 day output [[0.22114578]]\n",
      "19 day input [0.11517996 0.240982   0.158255   0.16629882 0.15092081 0.1643197\n",
      " 0.18112934 0.20753852 0.21511286 0.22114578]\n",
      "19 day output [[0.22848411]]\n",
      "20 day input [0.240982   0.158255   0.16629882 0.15092081 0.1643197  0.18112934\n",
      " 0.20753852 0.21511286 0.22114578 0.22848411]\n",
      "20 day output [[0.23407894]]\n",
      "21 day input [0.158255   0.16629882 0.15092081 0.1643197  0.18112934 0.20753852\n",
      " 0.21511286 0.22114578 0.22848411 0.23407894]\n",
      "21 day output [[0.2417981]]\n",
      "22 day input [0.16629882 0.15092081 0.1643197  0.18112934 0.20753852 0.21511286\n",
      " 0.22114578 0.22848411 0.23407894 0.2417981 ]\n",
      "22 day output [[0.24937262]]\n",
      "23 day input [0.15092081 0.1643197  0.18112934 0.20753852 0.21511286 0.22114578\n",
      " 0.22848411 0.23407894 0.2417981  0.24937262]\n",
      "23 day output [[0.25781947]]\n",
      "24 day input [0.1643197  0.18112934 0.20753852 0.21511286 0.22114578 0.22848411\n",
      " 0.23407894 0.2417981  0.24937262 0.25781947]\n",
      "24 day output [[0.26645643]]\n",
      "25 day input [0.18112934 0.20753852 0.21511286 0.22114578 0.22848411 0.23407894\n",
      " 0.2417981  0.24937262 0.25781947 0.26645643]\n",
      "25 day output [[0.2742557]]\n",
      "26 day input [0.20753852 0.21511286 0.22114578 0.22848411 0.23407894 0.2417981\n",
      " 0.24937262 0.25781947 0.26645643 0.2742557 ]\n",
      "26 day output [[0.28120583]]\n",
      "27 day input [0.21511286 0.22114578 0.22848411 0.23407894 0.2417981  0.24937262\n",
      " 0.25781947 0.26645643 0.2742557  0.28120583]\n",
      "27 day output [[0.28836]]\n",
      "28 day input [0.22114578 0.22848411 0.23407894 0.2417981  0.24937262 0.25781947\n",
      " 0.26645643 0.2742557  0.28120583 0.28836   ]\n",
      "28 day output [[0.29558828]]\n",
      "29 day input [0.22848411 0.23407894 0.2417981  0.24937262 0.25781947 0.26645643\n",
      " 0.2742557  0.28120583 0.28836    0.29558828]\n",
      "29 day output [[0.3028194]]\n",
      "30 day input [0.23407894 0.2417981  0.24937262 0.25781947 0.26645643 0.2742557\n",
      " 0.28120583 0.28836    0.29558828 0.3028194 ]\n",
      "30 day output [[0.31011048]]\n",
      "31 day input [0.2417981  0.24937262 0.25781947 0.26645643 0.2742557  0.28120583\n",
      " 0.28836    0.29558828 0.3028194  0.31011048]\n",
      "31 day output [[0.31729555]]\n",
      "32 day input [0.24937262 0.25781947 0.26645643 0.2742557  0.28120583 0.28836\n",
      " 0.29558828 0.3028194  0.31011048 0.31729555]\n",
      "32 day output [[0.3244222]]\n",
      "33 day input [0.25781947 0.26645643 0.2742557  0.28120583 0.28836    0.29558828\n",
      " 0.3028194  0.31011048 0.31729555 0.3244222 ]\n",
      "33 day output [[0.3314925]]\n",
      "34 day input [0.26645643 0.2742557  0.28120583 0.28836    0.29558828 0.3028194\n",
      " 0.31011048 0.31729555 0.3244222  0.3314925 ]\n",
      "34 day output [[0.3385665]]\n",
      "35 day input [0.2742557  0.28120583 0.28836    0.29558828 0.3028194  0.31011048\n",
      " 0.31729555 0.3244222  0.3314925  0.3385665 ]\n",
      "35 day output [[0.34571567]]\n",
      "36 day input [0.28120583 0.28836    0.29558828 0.3028194  0.31011048 0.31729555\n",
      " 0.3244222  0.3314925  0.3385665  0.34571567]\n",
      "36 day output [[0.35293874]]\n",
      "37 day input [0.28836    0.29558828 0.3028194  0.31011048 0.31729555 0.3244222\n",
      " 0.3314925  0.3385665  0.34571567 0.35293874]\n",
      "37 day output [[0.36023048]]\n",
      "38 day input [0.29558828 0.3028194  0.31011048 0.31729555 0.3244222  0.3314925\n",
      " 0.3385665  0.34571567 0.35293874 0.36023048]\n",
      "38 day output [[0.36760885]]\n",
      "39 day input [0.3028194  0.31011048 0.31729555 0.3244222  0.3314925  0.3385665\n",
      " 0.34571567 0.35293874 0.36023048 0.36760885]\n",
      "39 day output [[0.37508824]]\n",
      "40 day input [0.31011048 0.31729555 0.3244222  0.3314925  0.3385665  0.34571567\n",
      " 0.35293874 0.36023048 0.36760885 0.37508824]\n",
      "40 day output [[0.38268593]]\n",
      "41 day input [0.31729555 0.3244222  0.3314925  0.3385665  0.34571567 0.35293874\n",
      " 0.36023048 0.36760885 0.37508824 0.38268593]\n",
      "41 day output [[0.39042345]]\n",
      "42 day input [0.3244222  0.3314925  0.3385665  0.34571567 0.35293874 0.36023048\n",
      " 0.36760885 0.37508824 0.38268593 0.39042345]\n",
      "42 day output [[0.39830777]]\n",
      "43 day input [0.3314925  0.3385665  0.34571567 0.35293874 0.36023048 0.36760885\n",
      " 0.37508824 0.38268593 0.39042345 0.39830777]\n",
      "43 day output [[0.4063641]]\n",
      "44 day input [0.3385665  0.34571567 0.35293874 0.36023048 0.36760885 0.37508824\n",
      " 0.38268593 0.39042345 0.39830777 0.4063641 ]\n",
      "44 day output [[0.4145763]]\n",
      "45 day input [0.34571567 0.35293874 0.36023048 0.36760885 0.37508824 0.38268593\n",
      " 0.39042345 0.39830777 0.4063641  0.4145763 ]\n",
      "45 day output [[0.42295304]]\n",
      "46 day input [0.35293874 0.36023048 0.36760885 0.37508824 0.38268593 0.39042345\n",
      " 0.39830777 0.4063641  0.4145763  0.42295304]\n",
      "46 day output [[0.43152794]]\n",
      "47 day input [0.36023048 0.36760885 0.37508824 0.38268593 0.39042345 0.39830777\n",
      " 0.4063641  0.4145763  0.42295304 0.43152794]\n",
      "47 day output [[0.44032946]]\n",
      "48 day input [0.36760885 0.37508824 0.38268593 0.39042345 0.39830777 0.4063641\n",
      " 0.4145763  0.42295304 0.43152794 0.44032946]\n",
      "48 day output [[0.44947436]]\n",
      "49 day input [0.37508824 0.38268593 0.39042345 0.39830777 0.4063641  0.4145763\n",
      " 0.42295304 0.43152794 0.44032946 0.44947436]\n",
      "49 day output [[0.45893803]]\n",
      "[0.5982326, 0.7506823, 0.6776899, 0.69716793, 0.62093955, 0.561155, 0.44925922, 0.3992321, 0.23458128, 0.115179956, 0.240982, 0.158255, 0.16629882, 0.15092081, 0.1643197, 0.18112934, 0.20753852, 0.21511286, 0.22114578, 0.22848411, 0.23407894, 0.2417981, 0.24937262, 0.25781947, 0.26645643, 0.2742557, 0.28120583, 0.28836, 0.29558828, 0.3028194, 0.31011048, 0.31729555, 0.3244222, 0.3314925, 0.3385665, 0.34571567, 0.35293874, 0.36023048, 0.36760885, 0.37508824, 0.38268593, 0.39042345, 0.39830777, 0.4063641, 0.4145763, 0.42295304, 0.43152794, 0.44032946, 0.44947436, 0.45893803]\n"
     ]
    }
   ],
   "source": [
    "# demonstrate prediction for next 10 days\n",
    "x_input = output[-10:]\n",
    "temp_input=list(x_input)\n",
    "lst_output=[]\n",
    "i=0\n",
    "n_features=1\n",
    "while(i<50):\n",
    "    \n",
    "    \n",
    "    if(len(temp_input)>10):\n",
    "        x_input=np.array(np.asarray(temp_input[1:]))\n",
    "        print(\"{} day input {}\".format(i,x_input))\n",
    "        #print(x_input)\n",
    "        x_input = np.asarray(x_input).reshape((1, 10, n_features))\n",
    "        #print(x_input)\n",
    "        yhat = model.predict(np.asarray(x_input).astype('float32'), verbose=0)\n",
    "        print(\"{} day output {}\".format(i,yhat))\n",
    "        temp_input.append(yhat[0][0])\n",
    "        temp_input=temp_input[1:]\n",
    "        #print(temp_input)\n",
    "        lst_output.append(yhat[0][0])\n",
    "        i=i+1\n",
    "    else:\n",
    "        x_input = np.asarray(x_input).reshape((1, 10, n_features))\n",
    "        yhat = model.predict(np.asarray(x_input).astype('float32'), verbose=0)\n",
    "        print(yhat[0])\n",
    "        temp_input.append(yhat[0][0])\n",
    "        lst_output.append(yhat[0][0])\n",
    "        i=i+1\n",
    "    \n",
    "\n",
    "print(lst_output)\n"
   ]
  },
  {
   "cell_type": "code",
   "execution_count": 170,
   "id": "948255ab-f748-4927-823b-9d600727172b",
   "metadata": {},
   "outputs": [
    {
     "name": "stdout",
     "output_type": "stream",
     "text": [
      "[0.5982326, 0.7506823, 0.6776899, 0.69716793, 0.62093955, 0.561155, 0.44925922, 0.3992321, 0.23458128, 0.115179956, 0.240982, 0.158255, 0.16629882, 0.15092081, 0.1643197, 0.18112934, 0.20753852, 0.21511286, 0.22114578, 0.22848411, 0.23407894, 0.2417981, 0.24937262, 0.25781947, 0.26645643, 0.2742557, 0.28120583, 0.28836, 0.29558828, 0.3028194, 0.31011048, 0.31729555, 0.3244222, 0.3314925, 0.3385665, 0.34571567, 0.35293874, 0.36023048, 0.36760885, 0.37508824, 0.38268593, 0.39042345, 0.39830777, 0.4063641, 0.4145763, 0.42295304, 0.43152794, 0.44032946, 0.44947436, 0.45893803]\n"
     ]
    }
   ],
   "source": [
    "print(lst_output)"
   ]
  },
  {
   "cell_type": "code",
   "execution_count": 171,
   "id": "b8f7dee8-9caa-476f-a40e-0634e2e4790f",
   "metadata": {},
   "outputs": [
    {
     "data": {
      "text/plain": [
       "list"
      ]
     },
     "execution_count": 171,
     "metadata": {},
     "output_type": "execute_result"
    }
   ],
   "source": [
    "type(lst_output)"
   ]
  },
  {
   "cell_type": "code",
   "execution_count": 172,
   "id": "faf4f638-3c05-48b5-9262-9bb3e3628b59",
   "metadata": {},
   "outputs": [
    {
     "data": {
      "text/plain": [
       "[<matplotlib.lines.Line2D at 0x1ca6e693cd0>]"
      ]
     },
     "execution_count": 172,
     "metadata": {},
     "output_type": "execute_result"
    },
    {
     "data": {
      "image/png": "[encoded data removed]",
      "text/plain": [
       "<Figure size 432x288 with 1 Axes>"
      ]
     },
     "metadata": {
      "needs_background": "light"
     },
     "output_type": "display_data"
    }
   ],
   "source": [
    "plt.plot(file2)\n",
    "plt.plot(lst_output)"
   ]
  },
  {
   "cell_type": "code",
   "execution_count": 204,
   "id": "2e98aac7-f8a0-418d-9fc5-52acaed981aa",
   "metadata": {},
   "outputs": [],
   "source": [
    "# plt.plot(lst_output*(np.max(file1-np.min(file1))))"
   ]
  },
  {
   "cell_type": "code",
   "execution_count": 174,
   "id": "8cd33ac9-d4f7-4e43-900a-016cd115f593",
   "metadata": {},
   "outputs": [
    {
     "data": {
      "text/plain": [
       "35731.90000000003"
      ]
     },
     "execution_count": 174,
     "metadata": {},
     "output_type": "execute_result"
    }
   ],
   "source": [
    "np.min(file1)"
   ]
  },
  {
   "cell_type": "code",
   "execution_count": 175,
   "id": "2eb67298-5ab5-42d2-b473-25cde59e9d77",
   "metadata": {},
   "outputs": [],
   "source": [
    "\n",
    "jj=[np.multiply(x,(np.max(file1)-np.min(file1))) for x in lst_output]"
   ]
  },
  {
   "cell_type": "code",
   "execution_count": 176,
   "id": "86b7670e-4358-4029-bf31-9119fda08218",
   "metadata": {},
   "outputs": [
    {
     "data": {
      "text/plain": [
       "[<matplotlib.lines.Line2D at 0x1ca6e70a4c0>]"
      ]
     },
     "execution_count": 176,
     "metadata": {},
     "output_type": "execute_result"
    },
    {
     "data": {
      "image/png": "[encoded data removed]",
      "text/plain": [
       "<Figure size 432x288 with 1 Axes>"
      ]
     },
     "metadata": {
      "needs_background": "light"
     },
     "output_type": "display_data"
    }
   ],
   "source": [
    "plt.plot(jj)"
   ]
  },
  {
   "cell_type": "code",
   "execution_count": 177,
   "id": "6270bfac-86e9-4f9b-a101-d9ddf96a4633",
   "metadata": {},
   "outputs": [],
   "source": [
    "kk=[np.add(x,(np.min(file1))) for x in jj]"
   ]
  },
  {
   "cell_type": "code",
   "execution_count": 178,
   "id": "8d3a7f4a-951b-4822-945e-228f58a55c71",
   "metadata": {},
   "outputs": [
    {
     "data": {
      "text/plain": [
       "[<matplotlib.lines.Line2D at 0x1ca6e5e2490>]"
      ]
     },
     "execution_count": 178,
     "metadata": {},
     "output_type": "execute_result"
    },
    {
     "data": {
      "image/png": "[encoded data removed]",
      "text/plain": [
       "<Figure size 432x288 with 1 Axes>"
      ]
     },
     "metadata": {
      "needs_background": "light"
     },
     "output_type": "display_data"
    }
   ],
   "source": [
    "plt.plot(kk)"
   ]
  },
  {
   "cell_type": "code",
   "execution_count": 203,
   "id": "81985338-b8ca-4f85-bf16-1bb46bb6962f",
   "metadata": {},
   "outputs": [
    {
     "data": {
      "text/plain": [
       "[<matplotlib.lines.Line2D at 0x1ca69f6c760>]"
      ]
     },
     "execution_count": 203,
     "metadata": {},
     "output_type": "execute_result"
    },
    {
     "data": {
      "image/png": "[encoded data removed]",
      "text/plain": [
       "<Figure size 432x288 with 1 Axes>"
      ]
     },
     "metadata": {
      "needs_background": "light"
     },
     "output_type": "display_data"
    }
   ],
   "source": [
    "plt.plot(file1)\n",
    "plt.plot(kk)"
   ]
  },
  {
   "cell_type": "code",
   "execution_count": 194,
   "id": "7ba30ff4-9a32-4209-99f0-ea4488a32fbc",
   "metadata": {},
   "outputs": [],
   "source": [
    "ff=file1.tolist()"
   ]
  },
  {
   "cell_type": "code",
   "execution_count": 195,
   "id": "1affbaa1-a5b0-49d1-9964-ac351b58d733",
   "metadata": {},
   "outputs": [],
   "source": [
    "kkkk=[ff.append(x) for x in kk]"
   ]
  },
  {
   "cell_type": "code",
   "execution_count": 196,
   "id": "8e685c52-35ab-4464-9154-f02d246e3dbf",
   "metadata": {},
   "outputs": [
    {
     "data": {
      "text/plain": [
       "[None, None, None, None, None, None, None, None, None, None]"
      ]
     },
     "execution_count": 196,
     "metadata": {},
     "output_type": "execute_result"
    }
   ],
   "source": [
    "kkkk[-10:]"
   ]
  },
  {
   "cell_type": "code",
   "execution_count": 201,
   "id": "e8a4984f-98ae-4b42-8c93-6eed70675088",
   "metadata": {},
   "outputs": [
    {
     "data": {
      "text/plain": [
       "[258461.72590088026,\n",
       " 315220.72961107094,\n",
       " 288044.71087592264,\n",
       " 295296.6334360238,\n",
       " 266915.81118142564,\n",
       " 244657.2486854036,\n",
       " 202996.98000250652,\n",
       " 184371.22489152025,\n",
       " 123069.57532039905,\n",
       " 78614.90300567931,\n",
       " 125452.64676760981,\n",
       " 94652.30338204674,\n",
       " 97647.12479554645,\n",
       " 91921.68947074242,\n",
       " 96910.26975031442,\n",
       " 103168.7192861808,\n",
       " 113001.20178551652,\n",
       " 115821.23115390845,\n",
       " 118067.36385772444,\n",
       " 120799.52008441443,\n",
       " 122882.5501622505,\n",
       " 125756.49399437496,\n",
       " 128576.58438963466,\n",
       " 131721.45977520416,\n",
       " 134937.10968370386,\n",
       " 137840.87901048013,\n",
       " 140428.5069705827,\n",
       " 143092.09673737656,\n",
       " 145783.2817441998,\n",
       " 148475.52085146646,\n",
       " 151190.0846965454,\n",
       " 153865.18080186378,\n",
       " 156518.5291506652,\n",
       " 159150.89535274546,\n",
       " 161784.63743329924,\n",
       " 164446.36310667734,\n",
       " 167135.60634952586,\n",
       " 169850.41430207592,\n",
       " 172597.4777281947,\n",
       " 175382.1558964525,\n",
       " 178210.87327165704,\n",
       " 181091.65211297254,\n",
       " 184027.08883622807,\n",
       " 187026.57048326713,\n",
       " 190084.072037871,\n",
       " 193202.8445677231,\n",
       " 196395.39303282066,\n",
       " 199672.3139165686,\n",
       " 203077.08054041248,\n",
       " 206600.52777839167]"
      ]
     },
     "execution_count": 201,
     "metadata": {},
     "output_type": "execute_result"
    }
   ],
   "source": [
    "[x for x in kk]"
   ]
  },
  {
   "cell_type": "code",
   "execution_count": 202,
   "id": "958e2299-19e0-4bc3-af42-3bb3a082023e",
   "metadata": {},
   "outputs": [
    {
     "data": {
      "text/plain": [
       "list"
      ]
     },
     "execution_count": 202,
     "metadata": {},
     "output_type": "execute_result"
    }
   ],
   "source": [
    "type(ff)"
   ]
  },
  {
   "cell_type": "code",
   "execution_count": null,
   "id": "dd2db67e-0e09-4dd7-aba5-120b8a1e97ab",
   "metadata": {},
   "outputs": [],
   "source": []
  }
 ],
 "metadata": {
  "kernelspec": {
   "display_name": "Python 3",
   "language": "python",
   "name": "python3"
  },
  "language_info": {
   "codemirror_mode": {
    "name": "ipython",
    "version": 3
   },
   "file_extension": ".py",
   "mimetype": "text/x-python",
   "name": "python",
   "nbconvert_exporter": "python",
   "pygments_lexer": "ipython3",
   "version": "3.8.5"
  }
 },
 "nbformat": 4,
 "nbformat_minor": 5
}
